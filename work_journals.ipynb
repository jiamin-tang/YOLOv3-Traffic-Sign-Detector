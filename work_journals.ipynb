{
  "nbformat": 4,
  "nbformat_minor": 0,
  "metadata": {
    "colab": {
      "name": "work_journals.ipynb",
      "provenance": [],
      "collapsed_sections": [],
      "authorship_tag": "ABX9TyNNXlhEfu7OadQmz5GcY1oM",
      "include_colab_link": true
    },
    "kernelspec": {
      "name": "python3",
      "display_name": "Python 3"
    }
  },
  "cells": [
    {
      "cell_type": "markdown",
      "metadata": {
        "id": "view-in-github",
        "colab_type": "text"
      },
      "source": [
        "<a href=\"https://colab.research.google.com/github/tongxinw/YOLOv3_traffic_sign/blob/master/work_journals.ipynb\" target=\"_parent\"><img src=\"https://colab.research.google.com/assets/colab-badge.svg\" alt=\"Open In Colab\"/></a>"
      ]
    },
    {
      "cell_type": "markdown",
      "metadata": {
        "id": "34CVPGse4WyH",
        "colab_type": "text"
      },
      "source": [
        "# Work Journals\n",
        "\n",
        "**Team Name: Code Brew**\n",
        "\n",
        "**Team Members: Shiqi Lei, Tongxin Wang, Jiamin Tang, Qinyun Wu, Yiwei Sang**\n",
        "\n"
      ]
    },
    {
      "cell_type": "markdown",
      "metadata": {
        "id": "s2p9u0vx45w0",
        "colab_type": "text"
      },
      "source": [
        "## Date: 3/29/2020\n",
        "\n",
        "### Work completed this week:\n",
        "\n",
        "We individually researched the potential topics for the project and found academic papers related to the topic. In the group meeting, we discussed the feasibility, outlook and limitations of each topic and voted for the final topic.\n",
        "- Qinyun Wu: Object detection with bounding box, real-time/static image detection\n",
        "- Jiamin Tang: Group normalization, rumor detection with recursive neural networks\n",
        "- Yiwei Sang: Twitter sentiment analysis with LSTM\n",
        "- Tongxin Wang：Graph CNN for emotion recognition in conversation\n",
        "- Shiqi Lei: Fake news detection with NLP\n",
        "\n",
        "### Work planning for the next week:\n",
        "We initially choose the topic of object detection and decide to research more on state-of-the-art algorithms. We plan to find a well-established paper with implementations on this topic and identify our own task.\n",
        "\n",
        "### Reference: \n",
        "https://arxiv.org/pdf/1809.08545v3.pdf\n",
        "\n",
        "https://arxiv.org/pdf/1803.08494.pdf\n",
        "\n",
        "https://ink.library.smu.edu.sg/cgi/viewcontent.cgi?article=5564&context=sis_research\n",
        "\n",
        "https://paperswithcode.com/paper/bb_twtr-at-semeval-2017-task-4-twitter\n",
        "\n",
        "https://arxiv.org/ftp/arxiv/papers/1901/1901.09657.pdf\n",
        "\n"
      ]
    },
    {
      "cell_type": "markdown",
      "metadata": {
        "id": "UImfDCeW5IKZ",
        "colab_type": "text"
      },
      "source": [
        "## Date: 4/5/2020\n",
        "\n",
        "### Work completed this week:\n",
        "We chose the topic of object detection with YOLOv3 and read the paper from the initially-established YOLO to the advanced YOLO3. We decided to extend the model by training with our own dataset.\n",
        "- Qinyun Wu:  Read the paper of the initial YOLO model implementation and advanced YOLOv3 model implementation. Discussed our project idea with the professor. \n",
        "- Jiamin Tang: Read the paper of the initial YOLO model implementation and advanced YOLOv3 model implementation. Discussed our project idea with the professor. \n",
        "- Yiwei Sang: Read the paper of the initial YOLO model implementation and advanced YOLOv3 model implementation. Discussed our project idea with the professor. \n",
        "- Tongxin Wang：Read the paper of the initial YOLO model implementation and advanced YOLOv3 model implementation. Discussed our project idea with the professor. \n",
        "- Shiqi Lei: Read the paper of the initial YOLO model implementation and advanced YOLOv3 model implementation. Discussed our project idea with the professor. \n",
        "\n",
        "### Work planning for the next week:\n",
        "We would try to implement the pre-trained model with Tensorflow from what we learned from the papers and other implementations. Besides, we would find out the potential image dataset prepared for building the future detector by ourselves. \n",
        "\n",
        "### Reference: \n",
        "[YOLOv3: An Incremental Improvement](https://arxiv.org/abs/1804.02767)\n",
        "\n",
        "[You Only Look Once: Unified, Real-Time Object Detection](https://arxiv.org/abs/1506.02640)\n",
        "\n"
      ]
    },
    {
      "cell_type": "markdown",
      "metadata": {
        "id": "j9mcc8Dk5Iyg",
        "colab_type": "text"
      },
      "source": [
        "## Date: 4/12/2020\n",
        "Team Name: Code Brew\n",
        "Team Members: Shiqi Lei, Tongxin Wang, Jiamin Tang, Qinyun Wu, Yiwei Sang\n",
        "\n",
        "### Work completed this week:\n",
        "We implemented the pre-trained model with Tensorflow and used it to detect some test images. We also downloaded the dataset with images and labels for the next stage. The initial blog post was completed by the whole group.\n",
        "- Qinyun Wu: Ran the implementation of pre-trained YOLOv3 and composed the code implementation part of the blog post.\n",
        "- Jiamin Tang: Analyzed the strength and limitations of YOLOv3 detection with some instances. Identified next steps of training the model with a dataset of traffic lights.\n",
        "- Yiwei Sang: Worked on the OpenImageV6 dataset and searched for methods to download only one category of the big dataset.\n",
        "- Tongxin Wang：Downloaded the dataset prepared for building our YOLOv3 detector and compiled our written initial blog post. \n",
        "- Shiqi Lei: Researched further on object detection and YOLOv3. Composed the introduction part of the blog post.\n",
        "\n",
        "### Work planning for the next week:\n",
        "We would schedule a meeting with the professor to talk about our current work and try to get suggestions for our next step. After asking for approval, we would move to the next stage, starting training our YOLOv3 detector. \n",
        "\n",
        "### Reference: \n",
        "https://github.com/pjreddie/darknet\n",
        "\n",
        "https://arxiv.org/abs/1804.02767\n",
        "\n",
        "https://github.com/experiencor/keras-yolo3\n"
      ]
    }
  ]
}